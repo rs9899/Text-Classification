{
 "cells": [
  {
   "cell_type": "code",
   "execution_count": 1,
   "metadata": {
    "colab": {
     "autoexec": {
      "startup": false,
      "wait_interval": 0
     }
    },
    "colab_type": "code",
    "id": "-YibpL3v8Sf8"
   },
   "outputs": [
    {
     "name": "stderr",
     "output_type": "stream",
     "text": [
      "Using Theano backend.\n"
     ]
    }
   ],
   "source": [
    "import numpy as np\n",
    "import pandas as pd\n",
    "import pickle\n",
    "from collections import defaultdict\n",
    "import re\n",
    "from bs4 import BeautifulSoup\n",
    "import sys\n",
    "import os\n",
    "os.environ['KERAS_BACKEND']='theano' # Why theano why not\n",
    "from keras.preprocessing.text import Tokenizer\n",
    "from keras.preprocessing.sequence import pad_sequences\n",
    "from keras.utils.np_utils import to_categorical\n",
    "from keras.layers import Embedding\n",
    "from keras.layers import Dense, Input, Flatten\n",
    "from keras.layers import Conv1D, MaxPooling1D, Embedding, Dropout\n",
    "from keras.models import Model\n",
    "from keras.callbacks import ModelCheckpoint\n",
    "import matplotlib.pyplot as plt\n",
    "plt.switch_backend('agg')\n",
    "%matplotlib inline"
   ]
  },
  {
   "cell_type": "code",
   "execution_count": 2,
   "metadata": {
    "colab": {
     "autoexec": {
      "startup": false,
      "wait_interval": 0
     }
    },
    "colab_type": "code",
    "id": "n8z5XNCd99Vt"
   },
   "outputs": [],
   "source": [
    "def clean_str(string):\n",
    "    string = re.sub(r\"\\\\\", \"\", string)\n",
    "    string = re.sub(r\"\\'\", \"\", string)\n",
    "    string = re.sub(r\"\\\"\", \"\", string)\n",
    "    return string.strip().lower()"
   ]
  },
  {
   "cell_type": "code",
   "execution_count": 5,
   "metadata": {
    "colab": {
     "autoexec": {
      "startup": false,
      "wait_interval": 0
     }
    },
    "colab_type": "code",
    "id": "LG-0Ij2V-Bjl"
   },
   "outputs": [],
   "source": [
    "MAX_SEQUENCE_LENGTH = 100\n",
    "MAX_NB_WORDS = 20000\n",
    "EMBEDDING_DIM = 100\n",
    "VALIDATION_SPLIT = 0.2"
   ]
  },
  {
   "cell_type": "code",
   "execution_count": 6,
   "metadata": {},
   "outputs": [],
   "source": [
    "df = pd.read_csv('./data/train.tsv', sep='\\t', header=0)"
   ]
  },
  {
   "cell_type": "code",
   "execution_count": 7,
   "metadata": {
    "colab": {
     "autoexec": {
      "startup": false,
      "wait_interval": 0
     },
     "base_uri": "https://localhost:8080/",
     "height": 68
    },
    "colab_type": "code",
    "executionInfo": {
     "elapsed": 1219,
     "status": "ok",
     "timestamp": 1530788057022,
     "user": {
      "displayName": "Akshat Maheshwari",
      "photoUrl": "//lh5.googleusercontent.com/-f-xJkriVoaI/AAAAAAAAAAI/AAAAAAAAAVQ/TLGa4qObGgQ/s50-c-k-no/photo.jpg",
      "userId": "114426356464940466000"
     },
     "user_tz": -330
    },
    "id": "xU-Gzp5X-G0_",
    "outputId": "d4a47aee-ee55-4685-9e09-93f603ab68b8"
   },
   "outputs": [
    {
     "name": "stdout",
     "output_type": "stream",
     "text": [
      "('Shape of dataset ', (156060, 4))\n",
      "Index([u'PhraseId', u'SentenceId', u'Phrase', u'Sentiment'], dtype='object')\n",
      "('No. of unique classes', 5)\n"
     ]
    }
   ],
   "source": [
    "# reading data\n",
    "# df = pd.read_excel('dataset.xlsx')\n",
    "df = df.dropna()\n",
    "df = df.reset_index(drop=True)\n",
    "print('Shape of dataset ',df.shape)\n",
    "print(df.columns)\n",
    "print('No. of unique classes',len(set(df['Sentiment'])))"
   ]
  },
  {
   "cell_type": "code",
   "execution_count": 8,
   "metadata": {
    "colab": {
     "autoexec": {
      "startup": false,
      "wait_interval": 0
     }
    },
    "colab_type": "code",
    "id": "yTg_bT92-Lmu"
   },
   "outputs": [],
   "source": [
    "macronum=sorted(set(df['Sentiment']))\n",
    "macro_to_id = dict((note, number) for number, note in enumerate(macronum))\n",
    "\n",
    "def fun(i):\n",
    "    return macro_to_id[i]\n",
    "\n",
    "df['Sentiment']=df['Sentiment'].apply(fun)"
   ]
  },
  {
   "cell_type": "code",
   "execution_count": 10,
   "metadata": {
    "colab": {
     "autoexec": {
      "startup": false,
      "wait_interval": 0
     },
     "base_uri": "https://localhost:8080/",
     "height": 224
    },
    "colab_type": "code",
    "executionInfo": {
     "elapsed": 1064,
     "status": "ok",
     "timestamp": 1530788064257,
     "user": {
      "displayName": "Akshat Maheshwari",
      "photoUrl": "//lh5.googleusercontent.com/-f-xJkriVoaI/AAAAAAAAAAI/AAAAAAAAAVQ/TLGa4qObGgQ/s50-c-k-no/photo.jpg",
      "userId": "114426356464940466000"
     },
     "user_tz": -330
    },
    "id": "1iuuRu3z-dUl",
    "outputId": "556dd53b-d66d-4a17-f0d6-2c50de94c13f"
   },
   "outputs": [],
   "source": [
    "texts = []\n",
    "labels = []\n",
    "\n",
    "\n",
    "for idx in range(df.Phrase.shape[0]):\n",
    "#     print(df.Phrase[idx])\n",
    "    text = df.Phrase[idx]\n",
    "    texts.append(clean_str(text))\n",
    "\n",
    "for idx in df['Sentiment']:\n",
    "    labels.append(idx)"
   ]
  },
  {
   "cell_type": "code",
   "execution_count": 11,
   "metadata": {
    "colab": {
     "autoexec": {
      "startup": false,
      "wait_interval": 0
     },
     "base_uri": "https://localhost:8080/",
     "height": 34
    },
    "colab_type": "code",
    "executionInfo": {
     "elapsed": 1410,
     "status": "ok",
     "timestamp": 1530788068659,
     "user": {
      "displayName": "Akshat Maheshwari",
      "photoUrl": "//lh5.googleusercontent.com/-f-xJkriVoaI/AAAAAAAAAAI/AAAAAAAAAVQ/TLGa4qObGgQ/s50-c-k-no/photo.jpg",
      "userId": "114426356464940466000"
     },
     "user_tz": -330
    },
    "id": "UybzQTeT-jGj",
    "outputId": "fee861a5-5673-4b6e-ccd7-f08ccdebf76c"
   },
   "outputs": [
    {
     "name": "stdout",
     "output_type": "stream",
     "text": [
      "('Number of Unique Tokens', 15276)\n"
     ]
    }
   ],
   "source": [
    "tokenizer = Tokenizer(num_words=MAX_NB_WORDS)\n",
    "tokenizer.fit_on_texts(texts)\n",
    "sequences = tokenizer.texts_to_sequences(texts)\n",
    "\n",
    "word_index = tokenizer.word_index\n",
    "print('Number of Unique Tokens',len(word_index))"
   ]
  },
  {
   "cell_type": "code",
   "execution_count": 12,
   "metadata": {
    "colab": {
     "autoexec": {
      "startup": false,
      "wait_interval": 0
     },
     "base_uri": "https://localhost:8080/",
     "height": 51
    },
    "colab_type": "code",
    "executionInfo": {
     "elapsed": 1190,
     "status": "ok",
     "timestamp": 1530788073777,
     "user": {
      "displayName": "Akshat Maheshwari",
      "photoUrl": "//lh5.googleusercontent.com/-f-xJkriVoaI/AAAAAAAAAAI/AAAAAAAAAVQ/TLGa4qObGgQ/s50-c-k-no/photo.jpg",
      "userId": "114426356464940466000"
     },
     "user_tz": -330
    },
    "id": "lammuHZ3-puo",
    "outputId": "3ac2e35b-2ab4-48ab-aab8-2253748e9270"
   },
   "outputs": [
    {
     "name": "stdout",
     "output_type": "stream",
     "text": [
      "('Shape of Data Tensor:', (156060, 100))\n",
      "('Shape of Label Tensor:', (156060, 5))\n"
     ]
    }
   ],
   "source": [
    "data = pad_sequences(sequences, maxlen=MAX_SEQUENCE_LENGTH)\n",
    "\n",
    "labels = to_categorical(np.asarray(labels))\n",
    "print('Shape of Data Tensor:', data.shape)\n",
    "print('Shape of Label Tensor:', labels.shape)\n",
    "\n",
    "indices = np.arange(data.shape[0])\n",
    "np.random.shuffle(indices)\n",
    "data = data[indices]\n",
    "labels = labels[indices]\n",
    "nb_validation_samples = int(VALIDATION_SPLIT * data.shape[0])\n",
    "\n",
    "x_train = data[:-nb_validation_samples]\n",
    "y_train = labels[:-nb_validation_samples]\n",
    "x_val = data[-nb_validation_samples:]\n",
    "y_val = labels[-nb_validation_samples:]"
   ]
  },
  {
   "cell_type": "code",
   "execution_count": 14,
   "metadata": {
    "colab": {
     "autoexec": {
      "startup": false,
      "wait_interval": 0
     },
     "base_uri": "https://localhost:8080/",
     "height": 34
    },
    "colab_type": "code",
    "executionInfo": {
     "elapsed": 12325,
     "status": "ok",
     "timestamp": 1530788092979,
     "user": {
      "displayName": "Akshat Maheshwari",
      "photoUrl": "//lh5.googleusercontent.com/-f-xJkriVoaI/AAAAAAAAAAI/AAAAAAAAAVQ/TLGa4qObGgQ/s50-c-k-no/photo.jpg",
      "userId": "114426356464940466000"
     },
     "user_tz": -330
    },
    "id": "1cia1lKp8YN2",
    "outputId": "ddd4e1b5-a416-484d-8580-86816aeff61d"
   },
   "outputs": [
    {
     "name": "stdout",
     "output_type": "stream",
     "text": [
      "Total 400000 word vectors in Glove 6B 100d.\n"
     ]
    }
   ],
   "source": [
    "embeddings_index = {}\n",
    "GLOVE_LOC = '../glove.6B/glove.6B.100d.txt'\n",
    "f = open(GLOVE_LOC)\n",
    "for line in f:\n",
    "    values = line.split()\n",
    "    word = values[0]\n",
    "    coefs = np.asarray(values[1:], dtype='float32')\n",
    "    embeddings_index[word] = coefs\n",
    "f.close()\n",
    "\n",
    "print('Total %s word vectors in Glove 6B 100d.' % len(embeddings_index))"
   ]
  },
  {
   "cell_type": "code",
   "execution_count": 15,
   "metadata": {
    "colab": {
     "autoexec": {
      "startup": false,
      "wait_interval": 0
     }
    },
    "colab_type": "code",
    "id": "mvbOk28C-ywX"
   },
   "outputs": [],
   "source": [
    "embedding_matrix = np.random.random((len(word_index) + 1, EMBEDDING_DIM))\n",
    "for word, i in word_index.items():\n",
    "    embedding_vector = embeddings_index.get(word)\n",
    "    if embedding_vector is not None:\n",
    "        # words not found in embedding index will be all-zeros.\n",
    "        embedding_matrix[i] = embedding_vector\n",
    "\n",
    "embedding_layer = Embedding(len(word_index) + 1,\n",
    "                            EMBEDDING_DIM,weights=[embedding_matrix],\n",
    "                            input_length=MAX_SEQUENCE_LENGTH,trainable=True)"
   ]
  },
  {
   "cell_type": "code",
   "execution_count": 23,
   "metadata": {
    "colab": {
     "autoexec": {
      "startup": false,
      "wait_interval": 0
     },
     "base_uri": "https://localhost:8080/",
     "height": 527
    },
    "colab_type": "code",
    "executionInfo": {
     "elapsed": 1926,
     "status": "ok",
     "timestamp": 1530788208818,
     "user": {
      "displayName": "Akshat Maheshwari",
      "photoUrl": "//lh5.googleusercontent.com/-f-xJkriVoaI/AAAAAAAAAAI/AAAAAAAAAVQ/TLGa4qObGgQ/s50-c-k-no/photo.jpg",
      "userId": "114426356464940466000"
     },
     "user_tz": -330
    },
    "id": "WWAEbYKN-5dL",
    "outputId": "c4bebdf8-16e0-4982-b524-c90ee3f05173"
   },
   "outputs": [
    {
     "name": "stdout",
     "output_type": "stream",
     "text": [
      "Simplified convolutional neural network\n",
      "_________________________________________________________________\n",
      "Layer (type)                 Output Shape              Param #   \n",
      "=================================================================\n",
      "input_8 (InputLayer)         (None, 100)               0         \n",
      "_________________________________________________________________\n",
      "embedding_1 (Embedding)      (None, 100, 100)          1527700   \n",
      "_________________________________________________________________\n",
      "conv1d_15 (Conv1D)           (None, 96, 32)            16032     \n",
      "_________________________________________________________________\n",
      "max_pooling1d_16 (MaxPooling (None, 19, 32)            0         \n",
      "_________________________________________________________________\n",
      "flatten_8 (Flatten)          (None, 608)               0         \n",
      "_________________________________________________________________\n",
      "dense_8 (Dense)              (None, 32)                19488     \n",
      "_________________________________________________________________\n",
      "dense_9 (Dense)              (None, 5)                 165       \n",
      "=================================================================\n",
      "Total params: 1,563,385\n",
      "Trainable params: 1,563,385\n",
      "Non-trainable params: 0\n",
      "_________________________________________________________________\n"
     ]
    }
   ],
   "source": [
    "sequence_input = Input(shape=(MAX_SEQUENCE_LENGTH,), dtype='int32')\n",
    "embedded_sequences = embedding_layer(sequence_input)\n",
    "l_cov1= Conv1D(32, 5, activation='relu')(embedded_sequences)\n",
    "l_pool1 = MaxPooling1D(5)(l_cov1)\n",
    "# l_cov2 = Conv1D(32, 5, activation='relu')(l_pool1)\n",
    "# l_pool2 = MaxPooling1D(5)(l_cov2)\n",
    "# l_cov3 = Conv1D(32, 5, activation='relu')(l_pool2)\n",
    "# l_pool3 = MaxPooling1D(5)(l_cov3)  # global max pooling\n",
    "l_flat = Flatten()(l_pool1)\n",
    "l_dense = Dense(32, activation='relu')(l_flat)\n",
    "preds = Dense(len(macronum), activation='softmax')(l_dense)\n",
    "\n",
    "model = Model(sequence_input, preds)\n",
    "model.compile(loss='categorical_crossentropy',\n",
    "              optimizer='rmsprop',\n",
    "              metrics=['acc'])\n",
    "\n",
    "print(\"Simplified convolutional neural network\")\n",
    "model.summary()\n",
    "cp=ModelCheckpoint('model_cnn.hdf5',monitor='val_acc',verbose=1,save_best_only=True)"
   ]
  },
  {
   "cell_type": "code",
   "execution_count": null,
   "metadata": {
    "colab": {
     "autoexec": {
      "startup": false,
      "wait_interval": 0
     },
     "base_uri": "https://localhost:8080/",
     "height": 1074
    },
    "colab_type": "code",
    "executionInfo": {
     "elapsed": 63069,
     "status": "ok",
     "timestamp": 1530787445619,
     "user": {
      "displayName": "Akshat Maheshwari",
      "photoUrl": "//lh5.googleusercontent.com/-f-xJkriVoaI/AAAAAAAAAAI/AAAAAAAAAVQ/TLGa4qObGgQ/s50-c-k-no/photo.jpg",
      "userId": "114426356464940466000"
     },
     "user_tz": -330
    },
    "id": "GET42RUmCG1s",
    "outputId": "c85f9471-8081-404f-abfc-528e9dfaceab"
   },
   "outputs": [
    {
     "name": "stdout",
     "output_type": "stream",
     "text": [
      "Train on 124848 samples, validate on 31212 samples\n",
      "Epoch 1/5\n",
      "124848/124848 [==============================] - 612s 5ms/step - loss: 1.0122 - acc: 0.5995 - val_loss: 0.9891 - val_acc: 0.6047\n",
      "\n",
      "Epoch 00001: val_acc improved from -inf to 0.60467, saving model to model_cnn.hdf5\n",
      "Epoch 2/5\n",
      "124848/124848 [==============================] - 616s 5ms/step - loss: 0.9436 - acc: 0.6239 - val_loss: 0.9581 - val_acc: 0.6174\n",
      "\n",
      "Epoch 00002: val_acc improved from 0.60467 to 0.61736, saving model to model_cnn.hdf5\n",
      "Epoch 3/5\n",
      "108032/124848 [========================>.....] - ETA: 1:18 - loss: 0.9017 - acc: 0.6416"
     ]
    }
   ],
   "source": [
    "history=model.fit(x_train, y_train, validation_data=(x_val, y_val),epochs=5, batch_size=512,callbacks=[cp])"
   ]
  },
  {
   "cell_type": "code",
   "execution_count": null,
   "metadata": {
    "colab": {
     "autoexec": {
      "startup": false,
      "wait_interval": 0
     },
     "base_uri": "https://localhost:8080/",
     "height": 302
    },
    "colab_type": "code",
    "executionInfo": {
     "elapsed": 1410,
     "status": "ok",
     "timestamp": 1530787456262,
     "user": {
      "displayName": "Akshat Maheshwari",
      "photoUrl": "//lh5.googleusercontent.com/-f-xJkriVoaI/AAAAAAAAAAI/AAAAAAAAAVQ/TLGa4qObGgQ/s50-c-k-no/photo.jpg",
      "userId": "114426356464940466000"
     },
     "user_tz": -330
    },
    "id": "Hw6nPvUG_js0",
    "outputId": "f9404a8a-f642-427f-c252-172d2f1d8036"
   },
   "outputs": [],
   "source": [
    "fig1 = plt.figure()\n",
    "plt.plot(history.history['loss'],'r',linewidth=3.0)\n",
    "plt.plot(history.history['val_loss'],'b',linewidth=3.0)\n",
    "plt.legend(['Training loss', 'Validation Loss'],fontsize=18)\n",
    "plt.xlabel('Epochs ',fontsize=16)\n",
    "plt.ylabel('Loss',fontsize=16)\n",
    "plt.title('Loss Curves :CNN',fontsize=16)\n",
    "fig1.savefig('loss_cnn.png')\n",
    "plt.show()"
   ]
  },
  {
   "cell_type": "code",
   "execution_count": null,
   "metadata": {
    "colab": {
     "autoexec": {
      "startup": false,
      "wait_interval": 0
     },
     "base_uri": "https://localhost:8080/",
     "height": 302
    },
    "colab_type": "code",
    "executionInfo": {
     "elapsed": 1312,
     "status": "ok",
     "timestamp": 1530787460989,
     "user": {
      "displayName": "Akshat Maheshwari",
      "photoUrl": "//lh5.googleusercontent.com/-f-xJkriVoaI/AAAAAAAAAAI/AAAAAAAAAVQ/TLGa4qObGgQ/s50-c-k-no/photo.jpg",
      "userId": "114426356464940466000"
     },
     "user_tz": -330
    },
    "id": "akd1Jx2a_kbh",
    "outputId": "8807113d-cb58-463b-b2cf-71a8cb6abe99"
   },
   "outputs": [],
   "source": [
    "fig2=plt.figure()\n",
    "plt.plot(history.history['acc'],'r',linewidth=3.0)\n",
    "plt.plot(history.history['val_acc'],'b',linewidth=3.0)\n",
    "plt.legend(['Training Accuracy', 'Validation Accuracy'],fontsize=18)\n",
    "plt.xlabel('Epochs ',fontsize=16)\n",
    "plt.ylabel('Accuracy',fontsize=16)\n",
    "plt.title('Accuracy Curves : CNN',fontsize=16)\n",
    "fig2.savefig('accuracy_cnn.png')\n",
    "plt.show()"
   ]
  },
  {
   "cell_type": "code",
   "execution_count": null,
   "metadata": {
    "colab": {
     "autoexec": {
      "startup": false,
      "wait_interval": 0
     }
    },
    "colab_type": "code",
    "id": "BH5VmVtmf9_R"
   },
   "outputs": [],
   "source": [
    "#from keras.utils.vis_utils import plot_model\n",
    "#plot_model(model, to_file='cnn_model.png', show_shapes=True, show_layer_names=True)"
   ]
  },
  {
   "cell_type": "code",
   "execution_count": null,
   "metadata": {
    "colab": {
     "autoexec": {
      "startup": false,
      "wait_interval": 0
     },
     "base_uri": "https://localhost:8080/",
     "height": 1197
    },
    "colab_type": "code",
    "executionInfo": {
     "elapsed": 1478,
     "status": "ok",
     "timestamp": 1530797250743,
     "user": {
      "displayName": "Akshat Maheshwari",
      "photoUrl": "//lh5.googleusercontent.com/-f-xJkriVoaI/AAAAAAAAAAI/AAAAAAAAAVQ/TLGa4qObGgQ/s50-c-k-no/photo.jpg",
      "userId": "114426356464940466000"
     },
     "user_tz": -330
    },
    "id": "UBo-Zv-WkcHJ",
    "outputId": "9fedbf0c-257a-413c-c4fe-f03e8780d906"
   },
   "outputs": [],
   "source": [
    "from PIL import Image\n",
    "display(Image.open('cnn_model.png'))"
   ]
  },
  {
   "cell_type": "code",
   "execution_count": null,
   "metadata": {
    "colab": {
     "autoexec": {
      "startup": false,
      "wait_interval": 0
     }
    },
    "colab_type": "code",
    "id": "Sdom4oW-mW1V"
   },
   "outputs": [],
   "source": []
  }
 ],
 "metadata": {
  "colab": {
   "default_view": {},
   "name": "CNN.ipynb",
   "provenance": [],
   "version": "0.3.2",
   "views": {}
  },
  "kernelspec": {
   "display_name": "Python 2",
   "language": "python",
   "name": "python2"
  },
  "language_info": {
   "codemirror_mode": {
    "name": "ipython",
    "version": 2
   },
   "file_extension": ".py",
   "mimetype": "text/x-python",
   "name": "python",
   "nbconvert_exporter": "python",
   "pygments_lexer": "ipython2",
   "version": "2.7.15rc1"
  }
 },
 "nbformat": 4,
 "nbformat_minor": 1
}
